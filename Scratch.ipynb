{
 "cells": [
  {
   "cell_type": "code",
   "execution_count": 2,
   "metadata": {},
   "outputs": [],
   "source": [
    "import tweepy\n",
    "import os \n",
    "import keyring\n",
    "import pandas as pd\n",
    "import numpy as np\n",
    "import string \n",
    "import time\n",
    "from sqlalchemy import create_engine\n",
    "import psycopg2\n",
    "\n",
    "# Helper functions \n",
    "# from helpers import import_tweets_to_db\n",
    "# from helpers import get_last_tweet_id\n",
    "# from helpers import loop_tweets\n",
    "exec(open('helpers.py').read())\n",
    "\n",
    "\n",
    "# Pull in Passwords\n",
    "exec(open('./consumerpy').read())\n",
    "\n",
    "# Open the Connection to Twitter\n",
    "auth = tweepy.OAuthHandler(keyring.get_password('trumptweets','TWITTER_KEY'),keyring.get_password('trumptweets','TWITTER_SECRET'))\n",
    "auth.set_access_token(keyring.get_password('trumptweets','TWITTER_TOKEN'), keyring.get_password('trumptweets','TWITTER_TOKEN_SEC'))\n",
    "api = tweepy.API(auth,wait_on_rate_limit=True,retry_count=20,retry_delay=10,retry_errors=[401, 404, 500, 503],wait_on_rate_limit_notify=True)\n",
    "\n",
    "db_str = 'postgres://127.0.0.1:5432/tt'"
   ]
  },
  {
   "cell_type": "code",
   "execution_count": 3,
   "metadata": {},
   "outputs": [],
   "source": [
    "def get_last_tweet_id(screen_name, db_str = 'postgres://127.0.0.1:5432/tt'):\n",
    "    eng = create_engine(db_str)\n",
    "    tweet_id = pd.read_sql(sql=\"select max(id) from tweets where tweeter = '{}'\".format(screen_name), con=eng)\n",
    "    try: \n",
    "        ret = int(tweet_id.iloc[0]['max']) \n",
    "    except:\n",
    "        ret = None\n",
    "    return ret\n"
   ]
  },
  {
   "cell_type": "code",
   "execution_count": null,
   "metadata": {},
   "outputs": [],
   "source": []
  }
 ],
 "metadata": {
  "kernelspec": {
   "display_name": "Python 3",
   "language": "python",
   "name": "python3"
  },
  "language_info": {
   "codemirror_mode": {
    "name": "ipython",
    "version": 3
   },
   "file_extension": ".py",
   "mimetype": "text/x-python",
   "name": "python",
   "nbconvert_exporter": "python",
   "pygments_lexer": "ipython3",
   "version": "3.7.6"
  }
 },
 "nbformat": 4,
 "nbformat_minor": 4
}
